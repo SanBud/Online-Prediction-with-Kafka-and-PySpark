{
 "cells": [
  {
   "cell_type": "code",
   "execution_count": 1,
   "metadata": {
    "colab": {
     "base_uri": "https://localhost:8080/",
     "height": 0
    },
    "id": "QX-Mt1BlLzK2",
    "outputId": "7e19853f-aef5-4f2a-cf67-77290c2fa2d0"
   },
   "outputs": [
    {
     "name": "stdout",
     "output_type": "stream",
     "text": [
      "Get:1 https://cloud.r-project.org/bin/linux/ubuntu focal-cran40/ InRelease [3,622 B]\n",
      "Get:2 https://cloud.r-project.org/bin/linux/ubuntu focal-cran40/ Packages [71.1 kB]\n",
      "Ign:3 https://developer.download.nvidia.com/compute/machine-learning/repos/ubuntu2004/x86_64  InRelease\n",
      "Hit:4 https://developer.download.nvidia.com/compute/cuda/repos/ubuntu2004/x86_64  InRelease\n",
      "Hit:5 http://archive.ubuntu.com/ubuntu focal InRelease\n",
      "Get:6 http://security.ubuntu.com/ubuntu focal-security InRelease [114 kB]\n",
      "Get:7 http://ppa.launchpad.net/c2d4u.team/c2d4u4.0+/ubuntu focal InRelease [18.1 kB]\n",
      "Hit:8 https://developer.download.nvidia.com/compute/machine-learning/repos/ubuntu2004/x86_64  Release\n",
      "Get:9 http://archive.ubuntu.com/ubuntu focal-updates InRelease [114 kB]\n",
      "Hit:11 http://ppa.launchpad.net/cran/libgit2/ubuntu focal InRelease\n",
      "Hit:12 http://ppa.launchpad.net/deadsnakes/ppa/ubuntu focal InRelease\n",
      "Get:13 http://archive.ubuntu.com/ubuntu focal-backports InRelease [108 kB]\n",
      "Hit:14 http://ppa.launchpad.net/graphics-drivers/ppa/ubuntu focal InRelease\n",
      "Get:15 http://archive.ubuntu.com/ubuntu focal-updates/universe amd64 Packages [1,291 kB]\n",
      "Get:16 http://ppa.launchpad.net/c2d4u.team/c2d4u4.0+/ubuntu focal/main Sources [2,381 kB]\n",
      "Get:17 http://archive.ubuntu.com/ubuntu focal-updates/main amd64 Packages [2,921 kB]\n",
      "Get:18 http://ppa.launchpad.net/c2d4u.team/c2d4u4.0+/ubuntu focal/main amd64 Packages [1,128 kB]\n",
      "Fetched 8,150 kB in 6s (1,280 kB/s)\n",
      "Reading package lists... Done\n",
      "Building dependency tree       \n",
      "Reading state information... Done\n",
      "29 packages can be upgraded. Run 'apt list --upgradable' to see them.\n"
     ]
    }
   ],
   "source": [
    "!sudo apt update\n",
    "!apt-get install openjdk-8-jdk-headless -qq > /dev/null\n",
    "!wget -q https://dlcdn.apache.org/spark/spark-3.3.1/spark-3.3.1-bin-hadoop3.tgz"
   ]
  },
  {
   "cell_type": "code",
   "execution_count": 2,
   "metadata": {
    "colab": {
     "base_uri": "https://localhost:8080/",
     "height": 0
    },
    "id": "1RlJ5ZzvMCJa",
    "outputId": "6f088dcb-40a2-45a2-90f3-7ba2cfc9052e"
   },
   "outputs": [
    {
     "name": "stdout",
     "output_type": "stream",
     "text": [
      "Looking in indexes: https://pypi.org/simple, https://us-python.pkg.dev/colab-wheels/public/simple/\n",
      "Collecting pyspark\n",
      "  Downloading pyspark-3.3.1.tar.gz (281.4 MB)\n",
      "\u001b[2K     \u001b[90m━━━━━━━━━━━━━━━━━━━━━━━━━━━━━━━━━━━━━━━\u001b[0m \u001b[32m281.4/281.4 MB\u001b[0m \u001b[31m4.7 MB/s\u001b[0m eta \u001b[36m0:00:00\u001b[0m\n",
      "\u001b[?25h  Preparing metadata (setup.py) ... \u001b[?25l\u001b[?25hdone\n",
      "Collecting py4j==0.10.9.5\n",
      "  Downloading py4j-0.10.9.5-py2.py3-none-any.whl (199 kB)\n",
      "\u001b[2K     \u001b[90m━━━━━━━━━━━━━━━━━━━━━━━━━━━━━━━━━━━━━━\u001b[0m \u001b[32m199.7/199.7 KB\u001b[0m \u001b[31m23.0 MB/s\u001b[0m eta \u001b[36m0:00:00\u001b[0m\n",
      "\u001b[?25hBuilding wheels for collected packages: pyspark\n",
      "  Building wheel for pyspark (setup.py) ... \u001b[?25l\u001b[?25hdone\n",
      "  Created wheel for pyspark: filename=pyspark-3.3.1-py2.py3-none-any.whl size=281845512 sha256=a6afb6da4b93660e4f77288dbc469dc149f55033048a187783eed7f1df40d0ac\n",
      "  Stored in directory: /root/.cache/pip/wheels/43/dc/11/ec201cd671da62fa9c5cc77078235e40722170ceba231d7598\n",
      "Successfully built pyspark\n",
      "Installing collected packages: py4j, pyspark\n",
      "Successfully installed py4j-0.10.9.5 pyspark-3.3.1\n"
     ]
    }
   ],
   "source": [
    "!tar xf spark-3.3.1-bin-hadoop3.tgz\n",
    "!pip install -q findspark\n",
    "!pip install pyspark"
   ]
  },
  {
   "cell_type": "code",
   "execution_count": 3,
   "metadata": {
    "id": "rk6VWEtFMEwZ"
   },
   "outputs": [],
   "source": [
    "import os\n",
    "os.environ[\"JAVA_HOME\"] = \"/usr/lib/jvm/java-8-openjdk-amd64\"\n",
    "os.environ[\"SPARK_HOME\"] = \"/content/spark-3.3.1-bin-hadoop3\""
   ]
  },
  {
   "cell_type": "code",
   "execution_count": null,
   "metadata": {
    "id": "4CRxHrvjNdyS"
   },
   "outputs": [],
   "source": [
    "from google.colab import files\n",
    "# upload the Vector Assember model av_model.zip\n",
    "files.upload()\n",
    "# upload the ML model rf_model.zip\n",
    "files.upload()"
   ]
  },
  {
   "cell_type": "code",
   "execution_count": 5,
   "metadata": {
    "colab": {
     "base_uri": "https://localhost:8080/",
     "height": 0
    },
    "id": "2rsNAX7cOVwZ",
    "outputId": "bd0aab04-ff81-4b05-8990-b31fce3ec95a"
   },
   "outputs": [
    {
     "name": "stdout",
     "output_type": "stream",
     "text": [
      "path= /content\n"
     ]
    }
   ],
   "source": [
    "# extract the models\n",
    "import os\n",
    "import zipfile\n",
    "dirname = os.getcwd()\n",
    "print('path=',dirname)\n",
    "\n",
    "rf_filename = \"rf_model.zip\"\n",
    "va_filename = \"va_model.zip\"\n",
    "\n",
    "rf_path= os.path.join(dirname, rf_filename)\n",
    "va_path = os.path.join(dirname, va_filename)\n",
    "\n",
    "zip_rf = zipfile.ZipFile(rf_path, \"r\")\n",
    "zip_rf.extractall(dirname)\n",
    "zip_va = zipfile.ZipFile(va_path, \"r\")\n",
    "zip_va.extractall(dirname)\n",
    "\n",
    "\n",
    "zip_rf.close()\n",
    "zip_va.close()"
   ]
  },
  {
   "cell_type": "code",
   "execution_count": 6,
   "metadata": {
    "colab": {
     "base_uri": "https://localhost:8080/",
     "height": 36
    },
    "id": "v6926--fMHK7",
    "outputId": "2d1e804a-e979-446e-996e-be32db771426"
   },
   "outputs": [
    {
     "data": {
      "application/vnd.google.colaboratory.intrinsic+json": {
       "type": "string"
      },
      "text/plain": [
       "'/content/spark-3.3.1-bin-hadoop3'"
      ]
     },
     "execution_count": 6,
     "metadata": {},
     "output_type": "execute_result"
    }
   ],
   "source": [
    "import findspark\n",
    "findspark.init()\n",
    "findspark.find()"
   ]
  },
  {
   "cell_type": "code",
   "execution_count": 7,
   "metadata": {
    "colab": {
     "base_uri": "https://localhost:8080/",
     "height": 222
    },
    "id": "LoVusINVMKa4",
    "outputId": "14d26df1-a9f0-4790-f3b8-c6c9f694c010"
   },
   "outputs": [
    {
     "data": {
      "text/html": [
       "\n",
       "            <div>\n",
       "                <p><b>SparkSession - in-memory</b></p>\n",
       "                \n",
       "        <div>\n",
       "            <p><b>SparkContext</b></p>\n",
       "\n",
       "            <p><a href=\"http://51e50fd20f50:4040\">Spark UI</a></p>\n",
       "\n",
       "            <dl>\n",
       "              <dt>Version</dt>\n",
       "                <dd><code>v3.3.1</code></dd>\n",
       "              <dt>Master</dt>\n",
       "                <dd><code>local</code></dd>\n",
       "              <dt>AppName</dt>\n",
       "                <dd><code>NY Parking Violation</code></dd>\n",
       "            </dl>\n",
       "        </div>\n",
       "        \n",
       "            </div>\n",
       "        "
      ],
      "text/plain": [
       "<pyspark.sql.session.SparkSession at 0x7efc6ee33640>"
      ]
     },
     "execution_count": 7,
     "metadata": {},
     "output_type": "execute_result"
    }
   ],
   "source": [
    "from pyspark.sql import DataFrame, SparkSession\n",
    "from typing import List\n",
    "import pyspark.sql.types as T\n",
    "import pyspark.sql.functions as F\n",
    "from pyspark.sql.functions import isnull, when, count, col\n",
    "from pyspark import SparkFiles\n",
    "import matplotlib.pyplot as plt\n",
    "import seaborn as sns\n",
    "import pandas as pd\n",
    "\n",
    "spark = SparkSession.builder \\\n",
    "        .master('local') \\\n",
    "        .appName(\"NY Parking Violation\") \\\n",
    "        .config(\"spark.sql.adaptive.enabled\",\"true\") \\\n",
    "        .config(\"spark.executor.memory\",\"10g\") \\\n",
    "        .config(\"spark.driver.memory\",\"10g\") \\\n",
    "        .getOrCreate()\n",
    "spark"
   ]
  },
  {
   "cell_type": "code",
   "execution_count": 8,
   "metadata": {
    "id": "mJU2Jp-UNNbS"
   },
   "outputs": [],
   "source": [
    "columns_selected = [\"Registration State\",\"Plate Type\",\\\n",
    "                \"Violation Code\", \"Vehicle Body Type\",\"Vehicle Make\",\"Issuing Agency\", \"Street Code1\", \\\n",
    "               \"Street Code2\",\"Street Code3\",\"Violation Location\",\"Violation Precinct\", \\\n",
    "               \"Issuer Precinct\",\"Issuer Code\",\"Issuer Command\",\\\n",
    "               \"Violation County\",\"Law Section\",\"Sub Division\",\"Vehicle Color\"]"
   ]
  },
  {
   "cell_type": "code",
   "execution_count": 9,
   "metadata": {
    "id": "fnAnG9y5FTQ6"
   },
   "outputs": [],
   "source": [
    "# cols_index = [df.toPandas().columns.get_loc(col) for col in columns_selected]\n",
    "# print(cols_index)"
   ]
  },
  {
   "cell_type": "code",
   "execution_count": 10,
   "metadata": {
    "id": "ruFnh-ljMmrB"
   },
   "outputs": [],
   "source": [
    "from pyspark.sql import SparkSession\n",
    "from pyspark.ml import PipelineModel\n",
    "from pyspark.ml.feature import VectorAssembler, VectorIndexer, OneHotEncoder, StringIndexer\n",
    "def prepreocess_data(df):\n",
    "    df.show(5)\n",
    "    df.count(), len(df.columns)\n",
    "    df = df.select(columns_selected)\n",
    "\n",
    "    # clean up the data as many have incorrect values.\n",
    "    df = df[(df['Registration State'] != \"99\") \\\n",
    "        & (df['Plate Type'] != \"999\") \\\n",
    "        & (df['Violation Code'] != 0)]\n",
    "    # clean up the data\n",
    "    # Check if the null value still exist\n",
    "    df.select([count(when(isnull(c), c)).alias(c) for c in df.columns]).show()\n",
    "\n",
    "    df = df.na.drop()\n",
    "    df.dropDuplicates()\n",
    "\n",
    "    # convert to required type\n",
    "    cols = [F.col(field[0]).cast('double') if (field[1] == 'int') else F.col(field[0]) for field in df.dtypes]\n",
    "    df = df.select(cols)\n",
    "\n",
    "    #use model to transform\n",
    "    pm = PipelineModel.load(\"/content/va_model\")\n",
    "\n",
    "    df = pm.transform(df)\n",
    "    return df\n"
   ]
  },
  {
   "cell_type": "code",
   "execution_count": 11,
   "metadata": {
    "id": "qEAEAOKDShE7"
   },
   "outputs": [],
   "source": [
    "def predict_data(df):\n",
    "      #use ml model to predict\n",
    "    pred_model = PipelineModel.load(\"/content/rf_model\")\n",
    "    data = df.select(F.col(\"features_scaled\").alias(\"features\"))\n",
    "    # use the PipelineModel object to perform prediciton on  data. \n",
    "    prediction = pred_model.transform(data)\n",
    "\n",
    "    # print the results\n",
    "    # prediction.select('label','prediction','Violation_Location').show(5)\n",
    "    prediction.select('prediction','Violation_Location').show(10)\n",
    "    return prediction"
   ]
  },
  {
   "cell_type": "code",
   "execution_count": 12,
   "metadata": {
    "colab": {
     "base_uri": "https://localhost:8080/",
     "height": 0
    },
    "id": "u5l6bCjDSA1b",
    "outputId": "a8816ce6-1888-41f3-c243-3c09d4a068bd"
   },
   "outputs": [
    {
     "data": {
      "text/plain": [
       "(100000, 51)"
      ]
     },
     "execution_count": 12,
     "metadata": {},
     "output_type": "execute_result"
    }
   ],
   "source": [
    "df = spark.read.csv(\"/content/PV.00002.csv\",inferSchema=True, header= True)\n",
    "df.count(),len(df.columns)"
   ]
  },
  {
   "cell_type": "code",
   "execution_count": 13,
   "metadata": {
    "colab": {
     "base_uri": "https://localhost:8080/",
     "height": 0
    },
    "id": "_dFPSHpbS66A",
    "outputId": "71fd42a1-d599-4b04-b842-37de531228d9"
   },
   "outputs": [
    {
     "name": "stdout",
     "output_type": "stream",
     "text": [
      "+--------------+--------+------------------+----------+----------+--------------+-----------------+------------+--------------+------------+------------+------------+-----------------------+------------------+------------------+---------------+-----------+--------------+------------+--------------+-------------------+----------------+---------------------------------+------------+-------------+-------------------+-------------------+-----------+------------+--------------------+--------------------------+--------------------+------------------+-------------+---------------------+------------+------------+--------------+-------------------+---------------------+---------------------------------+-----------------+------------------------+--------+---------+---------------+------------------+------------+----+----+----+\n",
      "|Summons Number|Plate ID|Registration State|Plate Type|Issue Date|Violation Code|Vehicle Body Type|Vehicle Make|Issuing Agency|Street Code1|Street Code2|Street Code3|Vehicle Expiration Date|Violation Location|Violation Precinct|Issuer Precinct|Issuer Code|Issuer Command|Issuer Squad|Violation Time|Time First Observed|Violation County|Violation In Front Of Or Opposite|House Number|  Street Name|Intersecting Street|Date First Observed|Law Section|Sub Division|Violation Legal Code|Days Parking In Effect    |From Hours In Effect|To Hours In Effect|Vehicle Color|Unregistered Vehicle?|Vehicle Year|Meter Number|Feet From Curb|Violation Post Code|Violation Description|No Standing or Stopping Violation|Hydrant Violation|Double Parking Violation|Latitude|Longitude|Community Board|Community Council |Census Tract| BIN| BBL| NTA|\n",
      "+--------------+--------+------------------+----------+----------+--------------+-----------------+------------+--------------+------------+------------+------------+-----------------------+------------------+------------------+---------------+-----------+--------------+------------+--------------+-------------------+----------------+---------------------------------+------------+-------------+-------------------+-------------------+-----------+------------+--------------------+--------------------------+--------------------+------------------+-------------+---------------------+------------+------------+--------------+-------------------+---------------------+---------------------------------+-----------------+------------------------+--------+---------+---------------+------------------+------------+----+----+----+\n",
      "|    7021662099| GJH8997|                NY|       PAS|08/27/2013|            37|             SUBN|       SUBAR|             T|       40690|       24090|       24140|               20130930|               109|               109|            109|     341263|          T803|           A|         0902P|              1200P|               Q|                                F|      161-29|Crocheron Ave|               null|           20130827|        408|          h1|                null|                         Y|               0900A|             1000P|        SILVE|                 null|        2012|    428-3063|             0|                H -| 37-Expired Muni M...|                             null|             null|                    null|    null|     null|           null|              null|        null|null|null|null|\n",
      "|    7021662105| GJU4876|                NY|       PAS|08/27/2013|            37|             SUBN|       ACURA|             T|       40690|       24090|       24140|               20131002|               109|               109|            109|     341263|          T803|           A|         0903P|              1200P|               Q|                                F|      161-29|Crocheron Ave|               null|           20130827|        408|          h1|                null|                         Y|               0900A|             1000P|         GREY|                 null|        2014|    428-3063|             0|                H -| 37-Expired Muni M...|                             null|             null|                    null|    null|     null|           null|              null|        null|null|null|null|\n",
      "|    7022231175|   5F15B|                NY|       OMT|07/29/2013|            21|             TAXI|        FORD|             T|       23290|       17790|       18040|               20140228|               103|               103|            103|     353159|          T402|           J|         0736A|               null|               Q|                                O|       88-18|     150th St|               null|                  0|        408|          d1|                null|                         Y|               0730A|             0800A|           YW|                 null|        2011|        null|             0|               02 -| 21-No Parking (st...|                             null|             null|                    null|    null|     null|           null|              null|        null|null|null|null|\n",
      "|    7022235820| GAC6868|                NY|       PAS|08/20/2013|            20|             SUBN|       HONDA|             T|       65590|       28990|       52090|               20140630|               102|               102|            102|     353159|          T402|           J|         1121A|               null|               Q|                                F|      119-20|   Union Tpke|               null|                  0|        408|           d|                null|                         Y|               0700A|             0700P|           BL|                 null|        2009|        null|             0|               01 -| 20A-No Parking (N...|                             null|             null|                    null|    null|     null|           null|              null|        null|null|null|null|\n",
      "|    7022235879| 88696JU|                NY|       COM|08/20/2013|            14|              VAN|       CHEVR|             T|       59990|       16540|       16790|               88888888|               102|               102|            102|     353159|          T402|           J|         1217P|               null|               Q|                                F|      120-46|  Queens Blvd|               null|                  0|        408|           c|                null|                   YYYYYYY|                null|              null|        WHITE|                 null|        2006|        null|             0|               01 -|       14-No Standing|                             null|             null|                    null|    null|     null|           null|              null|        null|null|null|null|\n",
      "+--------------+--------+------------------+----------+----------+--------------+-----------------+------------+--------------+------------+------------+------------+-----------------------+------------------+------------------+---------------+-----------+--------------+------------+--------------+-------------------+----------------+---------------------------------+------------+-------------+-------------------+-------------------+-----------+------------+--------------------+--------------------------+--------------------+------------------+-------------+---------------------+------------+------------+--------------+-------------------+---------------------+---------------------------------+-----------------+------------------------+--------+---------+---------------+------------------+------------+----+----+----+\n",
      "only showing top 5 rows\n",
      "\n",
      "+------------------+----------+--------------+-----------------+------------+--------------+------------+------------+------------+------------------+------------------+---------------+-----------+--------------+----------------+-----------+------------+-------------+\n",
      "|Registration State|Plate Type|Violation Code|Vehicle Body Type|Vehicle Make|Issuing Agency|Street Code1|Street Code2|Street Code3|Violation Location|Violation Precinct|Issuer Precinct|Issuer Code|Issuer Command|Violation County|Law Section|Sub Division|Vehicle Color|\n",
      "+------------------+----------+--------------+-----------------+------------+--------------+------------+------------+------------+------------------+------------------+---------------+-----------+--------------+----------------+-----------+------------+-------------+\n",
      "|                 0|         0|             0|               52|          51|             0|           0|           0|           0|                10|                 0|              0|          0|             0|              10|          0|           0|           52|\n",
      "+------------------+----------+--------------+-----------------+------------+--------------+------------+------------+------------+------------------+------------------+---------------+-----------+--------------+----------------+-----------+------------+-------------+\n",
      "\n"
     ]
    }
   ],
   "source": [
    "vec_df = prepreocess_data(df)\n",
    "# predict_data(vec_df)"
   ]
  },
  {
   "cell_type": "code",
   "execution_count": 14,
   "metadata": {
    "colab": {
     "base_uri": "https://localhost:8080/",
     "height": 0
    },
    "id": "qNnP4vFs0BE1",
    "outputId": "9970e963-5403-4ed8-e921-7414868a23c9"
   },
   "outputs": [
    {
     "name": "stdout",
     "output_type": "stream",
     "text": [
      "+------------------+----------+--------------+-----------------+------------+--------------+------------+------------+------------+------------------+------------------+---------------+-----------+--------------+----------------+-----------+------------+-------------+--------------------------+------------------+-------------------------+--------------------+----------------------+----------------------+------------------------+--------------------+---------------------+----------------------------------+--------------------------+---------------------------------+----------------------------+------------------------------+------------------------------+--------------------------------+----------------------------+-----------------------------+----------------------------------------------------------------------------------------------------------------------------------------------------------------------------------------------+--------------------------------------------------------------------------------------------------------------------------------------------------------------------------------------------------------------------------------------------------------------------------------------------------+\n",
      "|Registration State|Plate Type|Violation Code|Vehicle Body Type|Vehicle Make|Issuing Agency|Street Code1|Street Code2|Street Code3|Violation Location|Violation Precinct|Issuer Precinct|Issuer Code|Issuer Command|Violation County|Law Section|Sub Division|Vehicle Color|Registration State_indexed|Plate Type_indexed|Vehicle Body Type_indexed|Vehicle Make_indexed|Issuing Agency_indexed|Issuer Command_indexed|Violation County_indexed|Sub Division_indexed|Vehicle Color_indexed|Registration State_indexed_encoded|Plate Type_indexed_encoded|Vehicle Body Type_indexed_encoded|Vehicle Make_indexed_encoded|Issuing Agency_indexed_encoded|Issuer Command_indexed_encoded|Violation County_indexed_encoded|Sub Division_indexed_encoded|Vehicle Color_indexed_encoded|features_vect                                                                                                                                                                                 |features_scaled                                                                                                                                                                                                                                                                                   |\n",
      "+------------------+----------+--------------+-----------------+------------+--------------+------------+------------+------------+------------------+------------------+---------------+-----------+--------------+----------------+-----------+------------+-------------+--------------------------+------------------+-------------------------+--------------------+----------------------+----------------------+------------------------+--------------------+---------------------+----------------------------------+--------------------------+---------------------------------+----------------------------+------------------------------+------------------------------+--------------------------------+----------------------------+-----------------------------+----------------------------------------------------------------------------------------------------------------------------------------------------------------------------------------------+--------------------------------------------------------------------------------------------------------------------------------------------------------------------------------------------------------------------------------------------------------------------------------------------------+\n",
      "|NY                |PAS       |37.0          |SUBN             |SUBAR       |T             |40690.0     |24090.0     |24140.0     |109.0             |109.0             |109.0          |341263.0   |T803          |Q               |408.0      |h1          |SILVE        |0.0                       |0.0               |2.0                      |29.0                |1.0                   |174.0                 |2.0                     |3.0                 |11.0                 |(59,[0],[1.0])                    |(39,[0],[1.0])            |(204,[2],[1.0])                  |(599,[29],[1.0])            |(10,[1],[1.0])                |(544,[174],[1.0])             |(6,[2],[1.0])                   |(120,[3],[1.0])             |(336,[11],[1.0])             |(1926,[0,59,100,331,902,1085,1457,1464,1592,1917,1918,1919,1920,1921,1922,1923,1924,1925],[1.0,1.0,1.0,1.0,1.0,1.0,1.0,1.0,1.0,37.0,40690.0,24090.0,24140.0,109.0,109.0,109.0,341263.0,408.0])|(1926,[0,59,100,331,902,1085,1457,1464,1592,1917,1918,1919,1920,1921,1922,1923,1924,1925],[1.0,1.0,1.0,1.0,1.0,1.0,1.0,1.0,1.0,0.36734693877551017,0.4156706507304117,0.24516588642377368,0.24567474048442908,0.13399503722084366,0.13399503722084366,0.10976837865055387,0.3412974710445755,0.5])|\n",
      "|NY                |PAS       |37.0          |SUBN             |ACURA       |T             |40690.0     |24090.0     |24140.0     |109.0             |109.0             |109.0          |341263.0   |T803          |Q               |408.0      |h1          |GREY         |0.0                       |0.0               |2.0                      |18.0                |1.0                   |174.0                 |2.0                     |3.0                 |9.0                  |(59,[0],[1.0])                    |(39,[0],[1.0])            |(204,[2],[1.0])                  |(599,[18],[1.0])            |(10,[1],[1.0])                |(544,[174],[1.0])             |(6,[2],[1.0])                   |(120,[3],[1.0])             |(336,[9],[1.0])              |(1926,[0,59,100,320,902,1085,1457,1464,1590,1917,1918,1919,1920,1921,1922,1923,1924,1925],[1.0,1.0,1.0,1.0,1.0,1.0,1.0,1.0,1.0,37.0,40690.0,24090.0,24140.0,109.0,109.0,109.0,341263.0,408.0])|(1926,[0,59,100,320,902,1085,1457,1464,1590,1917,1918,1919,1920,1921,1922,1923,1924,1925],[1.0,1.0,1.0,1.0,1.0,1.0,1.0,1.0,1.0,0.36734693877551017,0.4156706507304117,0.24516588642377368,0.24567474048442908,0.13399503722084366,0.13399503722084366,0.10976837865055387,0.3412974710445755,0.5])|\n",
      "|NY                |OMT       |21.0          |TAXI             |FORD        |T             |23290.0     |17790.0     |18040.0     |103.0             |103.0             |103.0          |353159.0   |T402          |Q               |408.0      |d1          |YW           |0.0                       |3.0               |11.0                     |0.0                 |1.0                   |49.0                  |2.0                     |9.0                 |29.0                 |(59,[0],[1.0])                    |(39,[3],[1.0])            |(204,[11],[1.0])                 |(599,[0],[1.0])             |(10,[1],[1.0])                |(544,[49],[1.0])              |(6,[2],[1.0])                   |(120,[9],[1.0])             |(336,[29],[1.0])             |(1926,[0,62,109,302,902,960,1457,1470,1610,1917,1918,1919,1920,1921,1922,1923,1924,1925],[1.0,1.0,1.0,1.0,1.0,1.0,1.0,1.0,1.0,21.0,23290.0,17790.0,18040.0,103.0,103.0,103.0,353159.0,408.0]) |(1926,[0,62,109,302,902,960,1457,1470,1610,1917,1918,1919,1920,1921,1922,1923,1924,1925],[1.0,1.0,1.0,1.0,1.0,1.0,1.0,1.0,1.0,0.2040816326530612,0.23792011441413832,0.18105027478119276,0.1835945450844698,0.12655086848635236,0.12655086848635236,0.10372608257804633,0.3531946726619388,0.5])  |\n",
      "|NY                |PAS       |20.0          |SUBN             |HONDA       |T             |65590.0     |28990.0     |52090.0     |102.0             |102.0             |102.0          |353159.0   |T402          |Q               |408.0      |d           |BL           |0.0                       |0.0               |2.0                      |3.0                 |1.0                   |49.0                  |2.0                     |16.0                |14.0                 |(59,[0],[1.0])                    |(39,[0],[1.0])            |(204,[2],[1.0])                  |(599,[3],[1.0])             |(10,[1],[1.0])                |(544,[49],[1.0])              |(6,[2],[1.0])                   |(120,[16],[1.0])            |(336,[14],[1.0])             |(1926,[0,59,100,305,902,960,1457,1477,1595,1917,1918,1919,1920,1921,1922,1923,1924,1925],[1.0,1.0,1.0,1.0,1.0,1.0,1.0,1.0,1.0,20.0,65590.0,28990.0,52090.0,102.0,102.0,102.0,353159.0,408.0]) |(1926,[0,59,100,305,902,960,1457,1477,1595,1917,1918,1919,1920,1921,1922,1923,1924,1925],[1.0,1.0,1.0,1.0,1.0,1.0,1.0,1.0,1.0,0.19387755102040816,0.6700377975278374,0.29503358436800325,0.5301241603907999,0.12531017369727046,0.12531017369727046,0.1027190332326284,0.3531946726619388,0.5])   |\n",
      "|NY                |COM       |14.0          |VAN              |CHEVR       |T             |59990.0     |16540.0     |16790.0     |102.0             |102.0             |102.0          |353159.0   |T402          |Q               |408.0      |c           |WHITE        |0.0                       |1.0               |1.0                      |1.0                 |1.0                   |49.0                  |2.0                     |11.0                |0.0                  |(59,[0],[1.0])                    |(39,[1],[1.0])            |(204,[1],[1.0])                  |(599,[1],[1.0])             |(10,[1],[1.0])                |(544,[49],[1.0])              |(6,[2],[1.0])                   |(120,[11],[1.0])            |(336,[0],[1.0])              |(1926,[0,60,99,303,902,960,1457,1472,1581,1917,1918,1919,1920,1921,1922,1923,1924,1925],[1.0,1.0,1.0,1.0,1.0,1.0,1.0,1.0,1.0,14.0,59990.0,16540.0,16790.0,102.0,102.0,102.0,353159.0,408.0])  |(1926,[0,60,99,303,902,960,1457,1472,1581,1917,1918,1919,1920,1921,1922,1923,1924,1925],[1.0,1.0,1.0,1.0,1.0,1.0,1.0,1.0,1.0,0.13265306122448978,0.612830728368577,0.16832892326480767,0.1708731935680847,0.12531017369727046,0.12531017369727046,0.1027190332326284,0.3531946726619388,0.5])     |\n",
      "+------------------+----------+--------------+-----------------+------------+--------------+------------+------------+------------+------------------+------------------+---------------+-----------+--------------+----------------+-----------+------------+-------------+--------------------------+------------------+-------------------------+--------------------+----------------------+----------------------+------------------------+--------------------+---------------------+----------------------------------+--------------------------+---------------------------------+----------------------------+------------------------------+------------------------------+--------------------------------+----------------------------+-----------------------------+----------------------------------------------------------------------------------------------------------------------------------------------------------------------------------------------+--------------------------------------------------------------------------------------------------------------------------------------------------------------------------------------------------------------------------------------------------------------------------------------------------+\n",
      "only showing top 5 rows\n",
      "\n"
     ]
    }
   ],
   "source": [
    "vec_df.show(5,False)"
   ]
  },
  {
   "cell_type": "code",
   "execution_count": 15,
   "metadata": {
    "colab": {
     "base_uri": "https://localhost:8080/",
     "height": 0
    },
    "id": "7UrQTh5Sz6bp",
    "outputId": "ef159a56-9211-46d1-9699-708750bde458"
   },
   "outputs": [
    {
     "name": "stdout",
     "output_type": "stream",
     "text": [
      "+----------+------------------+\n",
      "|prediction|Violation_Location|\n",
      "+----------+------------------+\n",
      "|       4.0|             109.0|\n",
      "|       4.0|             109.0|\n",
      "|      35.0|             103.0|\n",
      "|      35.0|             103.0|\n",
      "|      27.0|             104.0|\n",
      "|      35.0|             103.0|\n",
      "|      27.0|             104.0|\n",
      "|      25.0|             108.0|\n",
      "|      35.0|             103.0|\n",
      "|      27.0|             104.0|\n",
      "+----------+------------------+\n",
      "only showing top 10 rows\n",
      "\n"
     ]
    }
   ],
   "source": [
    "prediction = predict_data(vec_df)"
   ]
  },
  {
   "cell_type": "code",
   "execution_count": 16,
   "metadata": {
    "colab": {
     "base_uri": "https://localhost:8080/",
     "height": 0
    },
    "id": "m1ZZ2lMb4P8c",
    "outputId": "cf59a819-f91c-4495-e275-c48cec6538e0"
   },
   "outputs": [
    {
     "name": "stdout",
     "output_type": "stream",
     "text": [
      "+--------------------+--------------------+--------------------+----------+------------------+\n",
      "|            features|       rawPrediction|         probability|prediction|Violation_Location|\n",
      "+--------------------+--------------------+--------------------+----------+------------------+\n",
      "|(1926,[0,59,100,3...|[0.55610398108441...|[0.01390259952711...|       4.0|             109.0|\n",
      "|(1926,[0,59,100,3...|[0.63189684659933...|[0.01579742116498...|       4.0|             109.0|\n",
      "|(1926,[0,62,109,3...|[0.43424074714016...|[0.01085601867850...|      35.0|             103.0|\n",
      "|(1926,[0,59,100,3...|[0.39215854643541...|[0.00980396366088...|      35.0|             103.0|\n",
      "|(1926,[0,60,99,30...|[0.30858237046250...|[0.00771455926156...|      27.0|             104.0|\n",
      "|(1926,[0,63,100,3...|[0.29918287285738...|[0.00747957182143...|      35.0|             103.0|\n",
      "|(1926,[12,59,102,...|[0.18392480567470...|[0.00459812014186...|      27.0|             104.0|\n",
      "|(1926,[0,60,101,3...|[0.01163596065937...|[2.90899016484277...|      25.0|             108.0|\n",
      "|(1926,[6,59,100,3...|[0.70451213965000...|[0.01761280349125...|      35.0|             103.0|\n",
      "|(1926,[12,59,102,...|[0.18392480567470...|[0.00459812014186...|      27.0|             104.0|\n",
      "+--------------------+--------------------+--------------------+----------+------------------+\n",
      "only showing top 10 rows\n",
      "\n"
     ]
    }
   ],
   "source": [
    "prediction.show(10,True)"
   ]
  },
  {
   "cell_type": "code",
   "execution_count": 17,
   "metadata": {
    "colab": {
     "base_uri": "https://localhost:8080/",
     "height": 0
    },
    "id": "aNrCIxEe2rmN",
    "outputId": "e29176c8-40b9-4fa6-87a8-41793d8870d0"
   },
   "outputs": [
    {
     "name": "stdout",
     "output_type": "stream",
     "text": [
      "+--------------+--------+------------------+----------+----------+--------------+-----------------+------------+--------------+------------+------------+------------+-----------------------+------------------+------------------+---------------+-----------+--------------+------------+--------------+-------------------+----------------+---------------------------------+------------+-------------+--------------------+-------------------+-----------+------------+--------------------+--------------------------+--------------------+------------------+-------------+---------------------+------------+------------+--------------+-------------------+---------------------+---------------------------------+-----------------+------------------------+--------+---------+---------------+------------------+------------+----+----+----+\n",
      "|Summons Number|Plate ID|Registration State|Plate Type|Issue Date|Violation Code|Vehicle Body Type|Vehicle Make|Issuing Agency|Street Code1|Street Code2|Street Code3|Vehicle Expiration Date|Violation Location|Violation Precinct|Issuer Precinct|Issuer Code|Issuer Command|Issuer Squad|Violation Time|Time First Observed|Violation County|Violation In Front Of Or Opposite|House Number|  Street Name| Intersecting Street|Date First Observed|Law Section|Sub Division|Violation Legal Code|Days Parking In Effect    |From Hours In Effect|To Hours In Effect|Vehicle Color|Unregistered Vehicle?|Vehicle Year|Meter Number|Feet From Curb|Violation Post Code|Violation Description|No Standing or Stopping Violation|Hydrant Violation|Double Parking Violation|Latitude|Longitude|Community Board|Community Council |Census Tract| BIN| BBL| NTA|\n",
      "+--------------+--------+------------------+----------+----------+--------------+-----------------+------------+--------------+------------+------------+------------+-----------------------+------------------+------------------+---------------+-----------+--------------+------------+--------------+-------------------+----------------+---------------------------------+------------+-------------+--------------------+-------------------+-----------+------------+--------------------+--------------------------+--------------------+------------------+-------------+---------------------+------------+------------+--------------+-------------------+---------------------+---------------------------------+-----------------+------------------------+--------+---------+---------------+------------------+------------+----+----+----+\n",
      "|    7021662099| GJH8997|                NY|       PAS|08/27/2013|            37|             SUBN|       SUBAR|             T|       40690|       24090|       24140|               20130930|               109|               109|            109|     341263|          T803|           A|         0902P|              1200P|               Q|                                F|      161-29|Crocheron Ave|                null|           20130827|        408|          h1|                null|                         Y|               0900A|             1000P|        SILVE|                 null|        2012|    428-3063|             0|                H -| 37-Expired Muni M...|                             null|             null|                    null|    null|     null|           null|              null|        null|null|null|null|\n",
      "|    7021662105| GJU4876|                NY|       PAS|08/27/2013|            37|             SUBN|       ACURA|             T|       40690|       24090|       24140|               20131002|               109|               109|            109|     341263|          T803|           A|         0903P|              1200P|               Q|                                F|      161-29|Crocheron Ave|                null|           20130827|        408|          h1|                null|                         Y|               0900A|             1000P|         GREY|                 null|        2014|    428-3063|             0|                H -| 37-Expired Muni M...|                             null|             null|                    null|    null|     null|           null|              null|        null|null|null|null|\n",
      "|    7022231175|   5F15B|                NY|       OMT|07/29/2013|            21|             TAXI|        FORD|             T|       23290|       17790|       18040|               20140228|               103|               103|            103|     353159|          T402|           J|         0736A|               null|               Q|                                O|       88-18|     150th St|                null|                  0|        408|          d1|                null|                         Y|               0730A|             0800A|           YW|                 null|        2011|        null|             0|               02 -| 21-No Parking (st...|                             null|             null|                    null|    null|     null|           null|              null|        null|null|null|null|\n",
      "|    7022235820| GAC6868|                NY|       PAS|08/20/2013|            20|             SUBN|       HONDA|             T|       65590|       28990|       52090|               20140630|               102|               102|            102|     353159|          T402|           J|         1121A|               null|               Q|                                F|      119-20|   Union Tpke|                null|                  0|        408|           d|                null|                         Y|               0700A|             0700P|           BL|                 null|        2009|        null|             0|               01 -| 20A-No Parking (N...|                             null|             null|                    null|    null|     null|           null|              null|        null|null|null|null|\n",
      "|    7022235879| 88696JU|                NY|       COM|08/20/2013|            14|              VAN|       CHEVR|             T|       59990|       16540|       16790|               88888888|               102|               102|            102|     353159|          T402|           J|         1217P|               null|               Q|                                F|      120-46|  Queens Blvd|                null|                  0|        408|           c|                null|                   YYYYYYY|                null|              null|        WHITE|                 null|        2006|        null|             0|               01 -|       14-No Standing|                             null|             null|                    null|    null|     null|           null|              null|        null|null|null|null|\n",
      "|    7022235892| GAH6321|                NY|       OMS|08/20/2013|            38|             SUBN|       TOYOT|             T|       59990|           0|           0|               20130930|               102|               102|            102|     353159|          T402|           J|         1237P|               null|               Q|                                I|           S|  Queens Blvd|  80ft E/of 83rd Ave|                  0|        408|          h1|                null|                         Y|               0730A|             0800P|        SILVE|                 null|        2013|        null|             0|               01 -| 38-Failure to Dis...|                             null|             null|                    null|    null|     null|           null|              null|        null|null|null|null|\n",
      "|    7022235909| PAF8691|                GA|       PAS|08/21/2013|            21|             4DSD|       CHEVR|             T|       49690|       24240|       24290|               20140388|               103|               103|            103|     353159|          T402|           J|         0739A|               null|               Q|                                F|      164-30| Hillside Ave|                null|                  0|        408|          d1|                null|                         Y|               0730A|             0830A|        BLACK|                 null|           0|        null|             0|               05 -| 21-No Parking (st...|                             null|             null|                    null|    null|     null|           null|              null|        null|null|null|null|\n",
      "|    7022235910| 51976MA|                NY|       COM|08/21/2013|            19|             DELV|       INTER|             T|       49690|       24340|       24390|               20130930|               107|               107|            107|     353159|          T402|           J|         0807A|               null|               Q|                                F|      166-07| Hillside Ave|                null|                  0|        408|          c3|                null|                   YYYYYYY|                null|              null|          RED|                 null|        1995|        null|             0|               05 -| 19-No Stand (bus ...|                             null|             null|                    null|    null|     null|           null|              null|        null|null|null|null|\n",
      "|    7022235934|  928CA4|                MA|       PAS|08/21/2013|            21|             SUBN|       ACURA|             T|       24290|           0|           0|               20140488|               103|               103|            103|     353159|          T402|           J|         0816A|               null|               Q|                                I|           W|     165th St|10ft S/of Hillside A|                  0|        408|          d1|                null|                         Y|               0800A|             0830A|        SILVE|                 null|           0|        null|             0|               05 -| 21-No Parking (st...|                             null|             null|                    null|    null|     null|           null|              null|        null|null|null|null|\n",
      "|    7022235983| PAF8691|                GA|       PAS|08/21/2013|            38|             4DSD|       CHEVR|             T|       49690|       24240|       24290|               20140388|               103|               103|            103|     353159|          T402|           J|         0854A|               null|               Q|                                F|      164-30| Hillside Ave|                null|                  0|        408|          h1|                null|                     YYYYY|               0830A|             0400P|        BLACK|                 null|           0|        null|             0|               05 -| 38-Failure to Dis...|                             null|             null|                    null|    null|     null|           null|              null|        null|null|null|null|\n",
      "+--------------+--------+------------------+----------+----------+--------------+-----------------+------------+--------------+------------+------------+------------+-----------------------+------------------+------------------+---------------+-----------+--------------+------------+--------------+-------------------+----------------+---------------------------------+------------+-------------+--------------------+-------------------+-----------+------------+--------------------+--------------------------+--------------------+------------------+-------------+---------------------+------------+------------+--------------+-------------------+---------------------+---------------------------------+-----------------+------------------------+--------+---------+---------------+------------------+------------+----+----+----+\n",
      "only showing top 10 rows\n",
      "\n"
     ]
    }
   ],
   "source": [
    "df.show(10,True)"
   ]
  }
 ],
 "metadata": {
  "colab": {
   "provenance": []
  },
  "kernelspec": {
   "display_name": "Python 3",
   "language": "python",
   "name": "python3"
  },
  "language_info": {
   "codemirror_mode": {
    "name": "ipython",
    "version": 3
   },
   "file_extension": ".py",
   "mimetype": "text/x-python",
   "name": "python",
   "nbconvert_exporter": "python",
   "pygments_lexer": "ipython3",
   "version": "3.9.4"
  }
 },
 "nbformat": 4,
 "nbformat_minor": 1
}
