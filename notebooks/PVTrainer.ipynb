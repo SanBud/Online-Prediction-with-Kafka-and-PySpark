{
  "nbformat": 4,
  "nbformat_minor": 0,
  "metadata": {
    "colab": {
      "provenance": []
    },
    "kernelspec": {
      "name": "python3",
      "display_name": "Python 3"
    },
    "language_info": {
      "name": "python"
    }
  },
  "cells": [
    {
      "cell_type": "code",
      "execution_count": null,
      "metadata": {
        "colab": {
          "base_uri": "https://localhost:8080/"
        },
        "id": "pRlUL_ls-2jC",
        "outputId": "2f16d961-ce58-4875-e0e1-64eafdc0ec0d"
      },
      "outputs": [
        {
          "output_type": "stream",
          "name": "stdout",
          "text": [
            "\u001b[33m\r0% [Working]\u001b[0m\r            \rGet:1 https://cloud.r-project.org/bin/linux/ubuntu focal-cran40/ InRelease [3,622 B]\n",
            "\u001b[33m\r0% [Connecting to archive.ubuntu.com (185.125.190.39)] [Connecting to security.\u001b[0m\r                                                                               \rIgn:2 https://developer.download.nvidia.com/compute/machine-learning/repos/ubuntu2004/x86_64  InRelease\n",
            "\u001b[33m\r0% [Connecting to archive.ubuntu.com (185.125.190.39)] [Connecting to security.\u001b[0m\r                                                                               \rHit:3 https://developer.download.nvidia.com/compute/cuda/repos/ubuntu2004/x86_64  InRelease\n",
            "\u001b[33m\r0% [Connecting to archive.ubuntu.com (185.125.190.39)] [Connected to security.u\u001b[0m\r                                                                               \rHit:4 https://developer.download.nvidia.com/compute/machine-learning/repos/ubuntu2004/x86_64  Release\n",
            "Get:5 http://ppa.launchpad.net/c2d4u.team/c2d4u4.0+/ubuntu focal InRelease [18.1 kB]\n",
            "Get:6 http://security.ubuntu.com/ubuntu focal-security InRelease [114 kB]\n",
            "Hit:7 http://archive.ubuntu.com/ubuntu focal InRelease\n",
            "Get:8 http://archive.ubuntu.com/ubuntu focal-updates InRelease [114 kB]\n",
            "Hit:9 http://ppa.launchpad.net/cran/libgit2/ubuntu focal InRelease\n",
            "Get:10 https://cloud.r-project.org/bin/linux/ubuntu focal-cran40/ Packages [71.1 kB]\n",
            "Hit:11 http://ppa.launchpad.net/deadsnakes/ppa/ubuntu focal InRelease\n",
            "Get:12 http://archive.ubuntu.com/ubuntu focal-backports InRelease [108 kB]\n",
            "Hit:14 http://ppa.launchpad.net/graphics-drivers/ppa/ubuntu focal InRelease\n",
            "Get:15 http://ppa.launchpad.net/c2d4u.team/c2d4u4.0+/ubuntu focal/main Sources [2,381 kB]\n",
            "Get:16 http://archive.ubuntu.com/ubuntu focal-updates/universe amd64 Packages [1,291 kB]\n",
            "Get:17 http://archive.ubuntu.com/ubuntu focal-updates/main amd64 Packages [2,921 kB]\n",
            "Get:18 http://ppa.launchpad.net/c2d4u.team/c2d4u4.0+/ubuntu focal/main amd64 Packages [1,128 kB]\n",
            "Fetched 8,150 kB in 4s (2,270 kB/s)\n",
            "Reading package lists... Done\n",
            "Building dependency tree       \n",
            "Reading state information... Done\n",
            "29 packages can be upgraded. Run 'apt list --upgradable' to see them.\n"
          ]
        }
      ],
      "source": [
        "!sudo apt update\n",
        "!apt-get install openjdk-8-jdk-headless -qq > /dev/null\n",
        "!wget -q https://dlcdn.apache.org/spark/spark-3.3.1/spark-3.3.1-bin-hadoop3.tgz"
      ]
    },
    {
      "cell_type": "code",
      "execution_count": null,
      "metadata": {
        "colab": {
          "base_uri": "https://localhost:8080/"
        },
        "id": "B5Cii74M-8IC",
        "outputId": "cd46e020-077d-4ca7-9a79-71c11c4bfbca"
      },
      "outputs": [
        {
          "output_type": "stream",
          "name": "stdout",
          "text": [
            "Looking in indexes: https://pypi.org/simple, https://us-python.pkg.dev/colab-wheels/public/simple/\n",
            "Collecting pyspark\n",
            "  Downloading pyspark-3.3.1.tar.gz (281.4 MB)\n",
            "\u001b[2K     \u001b[90m━━━━━━━━━━━━━━━━━━━━━━━━━━━━━━━━━━━━━━━\u001b[0m \u001b[32m281.4/281.4 MB\u001b[0m \u001b[31m4.6 MB/s\u001b[0m eta \u001b[36m0:00:00\u001b[0m\n",
            "\u001b[?25h  Preparing metadata (setup.py) ... \u001b[?25l\u001b[?25hdone\n",
            "Collecting py4j==0.10.9.5\n",
            "  Downloading py4j-0.10.9.5-py2.py3-none-any.whl (199 kB)\n",
            "\u001b[2K     \u001b[90m━━━━━━━━━━━━━━━━━━━━━━━━━━━━━━━━━━━━━━\u001b[0m \u001b[32m199.7/199.7 KB\u001b[0m \u001b[31m20.0 MB/s\u001b[0m eta \u001b[36m0:00:00\u001b[0m\n",
            "\u001b[?25hBuilding wheels for collected packages: pyspark\n",
            "  Building wheel for pyspark (setup.py) ... \u001b[?25l\u001b[?25hdone\n",
            "  Created wheel for pyspark: filename=pyspark-3.3.1-py2.py3-none-any.whl size=281845512 sha256=76036277844fabfd3e340fdc62515232b0da8ba29a5455d5fa466dd50f41ba0f\n",
            "  Stored in directory: /root/.cache/pip/wheels/43/dc/11/ec201cd671da62fa9c5cc77078235e40722170ceba231d7598\n",
            "Successfully built pyspark\n",
            "Installing collected packages: py4j, pyspark\n",
            "Successfully installed py4j-0.10.9.5 pyspark-3.3.1\n"
          ]
        }
      ],
      "source": [
        "!tar xf spark-3.3.1-bin-hadoop3.tgz\n",
        "!pip install -q findspark\n",
        "!pip install pyspark"
      ]
    },
    {
      "cell_type": "code",
      "execution_count": null,
      "metadata": {
        "id": "O2SXpbcP_AxL"
      },
      "outputs": [],
      "source": [
        "import os\n",
        "os.environ[\"JAVA_HOME\"] = \"/usr/lib/jvm/java-8-openjdk-amd64\"\n",
        "os.environ[\"SPARK_HOME\"] = \"/content/spark-3.3.1-bin-hadoop3\""
      ]
    },
    {
      "cell_type": "code",
      "execution_count": null,
      "metadata": {
        "colab": {
          "base_uri": "https://localhost:8080/",
          "height": 36
        },
        "id": "cba062b8-6534-42df-bd17-c11f22759ef9",
        "outputId": "f15d63c5-f622-4db2-a0aa-eb23a95d8f0b"
      },
      "outputs": [
        {
          "output_type": "execute_result",
          "data": {
            "text/plain": [
              "'/content/spark-3.3.1-bin-hadoop3'"
            ],
            "application/vnd.google.colaboratory.intrinsic+json": {
              "type": "string"
            }
          },
          "metadata": {},
          "execution_count": 4
        }
      ],
      "source": [
        "import findspark\n",
        "findspark.init()\n",
        "findspark.find()"
      ]
    },
    {
      "cell_type": "code",
      "execution_count": null,
      "metadata": {
        "colab": {
          "base_uri": "https://localhost:8080/",
          "height": 222
        },
        "id": "664c3816-910d-47ee-aaeb-44fb16287378",
        "outputId": "833f51ab-bfa0-4cb6-c19c-b000e7195940"
      },
      "outputs": [
        {
          "output_type": "execute_result",
          "data": {
            "text/plain": [
              "<pyspark.sql.session.SparkSession at 0x7f43c23f5c70>"
            ],
            "text/html": [
              "\n",
              "            <div>\n",
              "                <p><b>SparkSession - in-memory</b></p>\n",
              "                \n",
              "        <div>\n",
              "            <p><b>SparkContext</b></p>\n",
              "\n",
              "            <p><a href=\"http://389a1d4b89c0:4040\">Spark UI</a></p>\n",
              "\n",
              "            <dl>\n",
              "              <dt>Version</dt>\n",
              "                <dd><code>v3.3.1</code></dd>\n",
              "              <dt>Master</dt>\n",
              "                <dd><code>local</code></dd>\n",
              "              <dt>AppName</dt>\n",
              "                <dd><code>NY Parking Violation</code></dd>\n",
              "            </dl>\n",
              "        </div>\n",
              "        \n",
              "            </div>\n",
              "        "
            ]
          },
          "metadata": {},
          "execution_count": 5
        }
      ],
      "source": [
        "from pyspark.sql import DataFrame, SparkSession\n",
        "from typing import List\n",
        "import pyspark.sql.types as T\n",
        "import pyspark.sql.functions as F\n",
        "from pyspark.sql.functions import isnull, when, count, col, isnan\n",
        "from pyspark import SparkFiles\n",
        "import matplotlib.pyplot as plt\n",
        "import seaborn as sns\n",
        "import pandas as pd\n",
        "\n",
        "spark = SparkSession.builder \\\n",
        "        .master('local') \\\n",
        "        .appName(\"NY Parking Violation\") \\\n",
        "        .config(\"spark.sql.adaptive.enabled\",\"true\") \\\n",
        "        .config(\"spark.executor.memory\",\"10g\") \\\n",
        "        .config(\"spark.driver.memory\",\"10g\") \\\n",
        "        .getOrCreate()\n",
        "spark"
      ]
    },
    {
      "cell_type": "code",
      "source": [
        "from google.colab import files\n",
        "uploaded = files.upload()\n"
      ],
      "metadata": {
        "colab": {
          "base_uri": "https://localhost:8080/",
          "height": 73
        },
        "id": "u2eNEaY-Vlht",
        "outputId": "4c8875d4-a76d-4771-bd03-86b5e58960e5"
      },
      "execution_count": null,
      "outputs": [
        {
          "output_type": "display_data",
          "data": {
            "text/plain": [
              "<IPython.core.display.HTML object>"
            ],
            "text/html": [
              "\n",
              "     <input type=\"file\" id=\"files-49afaeed-fc97-49b2-b209-e9de8ea9aab9\" name=\"files[]\" multiple disabled\n",
              "        style=\"border:none\" />\n",
              "     <output id=\"result-49afaeed-fc97-49b2-b209-e9de8ea9aab9\">\n",
              "      Upload widget is only available when the cell has been executed in the\n",
              "      current browser session. Please rerun this cell to enable.\n",
              "      </output>\n",
              "      <script>// Copyright 2017 Google LLC\n",
              "//\n",
              "// Licensed under the Apache License, Version 2.0 (the \"License\");\n",
              "// you may not use this file except in compliance with the License.\n",
              "// You may obtain a copy of the License at\n",
              "//\n",
              "//      http://www.apache.org/licenses/LICENSE-2.0\n",
              "//\n",
              "// Unless required by applicable law or agreed to in writing, software\n",
              "// distributed under the License is distributed on an \"AS IS\" BASIS,\n",
              "// WITHOUT WARRANTIES OR CONDITIONS OF ANY KIND, either express or implied.\n",
              "// See the License for the specific language governing permissions and\n",
              "// limitations under the License.\n",
              "\n",
              "/**\n",
              " * @fileoverview Helpers for google.colab Python module.\n",
              " */\n",
              "(function(scope) {\n",
              "function span(text, styleAttributes = {}) {\n",
              "  const element = document.createElement('span');\n",
              "  element.textContent = text;\n",
              "  for (const key of Object.keys(styleAttributes)) {\n",
              "    element.style[key] = styleAttributes[key];\n",
              "  }\n",
              "  return element;\n",
              "}\n",
              "\n",
              "// Max number of bytes which will be uploaded at a time.\n",
              "const MAX_PAYLOAD_SIZE = 100 * 1024;\n",
              "\n",
              "function _uploadFiles(inputId, outputId) {\n",
              "  const steps = uploadFilesStep(inputId, outputId);\n",
              "  const outputElement = document.getElementById(outputId);\n",
              "  // Cache steps on the outputElement to make it available for the next call\n",
              "  // to uploadFilesContinue from Python.\n",
              "  outputElement.steps = steps;\n",
              "\n",
              "  return _uploadFilesContinue(outputId);\n",
              "}\n",
              "\n",
              "// This is roughly an async generator (not supported in the browser yet),\n",
              "// where there are multiple asynchronous steps and the Python side is going\n",
              "// to poll for completion of each step.\n",
              "// This uses a Promise to block the python side on completion of each step,\n",
              "// then passes the result of the previous step as the input to the next step.\n",
              "function _uploadFilesContinue(outputId) {\n",
              "  const outputElement = document.getElementById(outputId);\n",
              "  const steps = outputElement.steps;\n",
              "\n",
              "  const next = steps.next(outputElement.lastPromiseValue);\n",
              "  return Promise.resolve(next.value.promise).then((value) => {\n",
              "    // Cache the last promise value to make it available to the next\n",
              "    // step of the generator.\n",
              "    outputElement.lastPromiseValue = value;\n",
              "    return next.value.response;\n",
              "  });\n",
              "}\n",
              "\n",
              "/**\n",
              " * Generator function which is called between each async step of the upload\n",
              " * process.\n",
              " * @param {string} inputId Element ID of the input file picker element.\n",
              " * @param {string} outputId Element ID of the output display.\n",
              " * @return {!Iterable<!Object>} Iterable of next steps.\n",
              " */\n",
              "function* uploadFilesStep(inputId, outputId) {\n",
              "  const inputElement = document.getElementById(inputId);\n",
              "  inputElement.disabled = false;\n",
              "\n",
              "  const outputElement = document.getElementById(outputId);\n",
              "  outputElement.innerHTML = '';\n",
              "\n",
              "  const pickedPromise = new Promise((resolve) => {\n",
              "    inputElement.addEventListener('change', (e) => {\n",
              "      resolve(e.target.files);\n",
              "    });\n",
              "  });\n",
              "\n",
              "  const cancel = document.createElement('button');\n",
              "  inputElement.parentElement.appendChild(cancel);\n",
              "  cancel.textContent = 'Cancel upload';\n",
              "  const cancelPromise = new Promise((resolve) => {\n",
              "    cancel.onclick = () => {\n",
              "      resolve(null);\n",
              "    };\n",
              "  });\n",
              "\n",
              "  // Wait for the user to pick the files.\n",
              "  const files = yield {\n",
              "    promise: Promise.race([pickedPromise, cancelPromise]),\n",
              "    response: {\n",
              "      action: 'starting',\n",
              "    }\n",
              "  };\n",
              "\n",
              "  cancel.remove();\n",
              "\n",
              "  // Disable the input element since further picks are not allowed.\n",
              "  inputElement.disabled = true;\n",
              "\n",
              "  if (!files) {\n",
              "    return {\n",
              "      response: {\n",
              "        action: 'complete',\n",
              "      }\n",
              "    };\n",
              "  }\n",
              "\n",
              "  for (const file of files) {\n",
              "    const li = document.createElement('li');\n",
              "    li.append(span(file.name, {fontWeight: 'bold'}));\n",
              "    li.append(span(\n",
              "        `(${file.type || 'n/a'}) - ${file.size} bytes, ` +\n",
              "        `last modified: ${\n",
              "            file.lastModifiedDate ? file.lastModifiedDate.toLocaleDateString() :\n",
              "                                    'n/a'} - `));\n",
              "    const percent = span('0% done');\n",
              "    li.appendChild(percent);\n",
              "\n",
              "    outputElement.appendChild(li);\n",
              "\n",
              "    const fileDataPromise = new Promise((resolve) => {\n",
              "      const reader = new FileReader();\n",
              "      reader.onload = (e) => {\n",
              "        resolve(e.target.result);\n",
              "      };\n",
              "      reader.readAsArrayBuffer(file);\n",
              "    });\n",
              "    // Wait for the data to be ready.\n",
              "    let fileData = yield {\n",
              "      promise: fileDataPromise,\n",
              "      response: {\n",
              "        action: 'continue',\n",
              "      }\n",
              "    };\n",
              "\n",
              "    // Use a chunked sending to avoid message size limits. See b/62115660.\n",
              "    let position = 0;\n",
              "    do {\n",
              "      const length = Math.min(fileData.byteLength - position, MAX_PAYLOAD_SIZE);\n",
              "      const chunk = new Uint8Array(fileData, position, length);\n",
              "      position += length;\n",
              "\n",
              "      const base64 = btoa(String.fromCharCode.apply(null, chunk));\n",
              "      yield {\n",
              "        response: {\n",
              "          action: 'append',\n",
              "          file: file.name,\n",
              "          data: base64,\n",
              "        },\n",
              "      };\n",
              "\n",
              "      let percentDone = fileData.byteLength === 0 ?\n",
              "          100 :\n",
              "          Math.round((position / fileData.byteLength) * 100);\n",
              "      percent.textContent = `${percentDone}% done`;\n",
              "\n",
              "    } while (position < fileData.byteLength);\n",
              "  }\n",
              "\n",
              "  // All done.\n",
              "  yield {\n",
              "    response: {\n",
              "      action: 'complete',\n",
              "    }\n",
              "  };\n",
              "}\n",
              "\n",
              "scope.google = scope.google || {};\n",
              "scope.google.colab = scope.google.colab || {};\n",
              "scope.google.colab._files = {\n",
              "  _uploadFiles,\n",
              "  _uploadFilesContinue,\n",
              "};\n",
              "})(self);\n",
              "</script> "
            ]
          },
          "metadata": {}
        },
        {
          "output_type": "stream",
          "name": "stdout",
          "text": [
            "Saving PV.00002.csv to PV.00002.csv\n"
          ]
        }
      ]
    },
    {
      "cell_type": "code",
      "execution_count": null,
      "metadata": {
        "id": "82af990b-0ea3-4be8-8955-65af95a670a1"
      },
      "outputs": [],
      "source": [
        "## ensure to use the link of the raw file of the csv\n",
        "# url = \"https://data.cityofnewyork.us/api/views/pvqr-7yc4/rows.csv\""
      ]
    },
    {
      "cell_type": "code",
      "execution_count": null,
      "metadata": {
        "id": "9d6034ef-db27-41a6-8873-87366eba59a6"
      },
      "outputs": [],
      "source": [
        "# spark.sparkContext.addFile(url)"
      ]
    },
    {
      "cell_type": "code",
      "execution_count": null,
      "metadata": {
        "id": "9b06fa67-af20-4dc9-9eaf-817e78a5dccc"
      },
      "outputs": [],
      "source": [
        "# df = spark.read.csv(SparkFiles.get(\"rows.csv\"),inferSchema=True, header= True)"
      ]
    },
    {
      "cell_type": "code",
      "source": [
        "df = spark.read.csv(\"/content/PV.00001.csv\",inferSchema=True, header=True)"
      ],
      "metadata": {
        "id": "o84KHeYKIjhK"
      },
      "execution_count": null,
      "outputs": []
    },
    {
      "cell_type": "code",
      "source": [
        "df.count(),len(df.columns)"
      ],
      "metadata": {
        "colab": {
          "base_uri": "https://localhost:8080/"
        },
        "id": "VSe6VCO4GVuv",
        "outputId": "1282fdd6-541d-4824-a036-33843364f8ff"
      },
      "execution_count": null,
      "outputs": [
        {
          "output_type": "execute_result",
          "data": {
            "text/plain": [
              "(100000, 51)"
            ]
          },
          "metadata": {},
          "execution_count": 11
        }
      ]
    },
    {
      "cell_type": "code",
      "source": [
        "df.printSchema()"
      ],
      "metadata": {
        "colab": {
          "base_uri": "https://localhost:8080/"
        },
        "id": "l8IQrXnRHMYs",
        "outputId": "e17d41b8-2305-49fa-bb5d-9c4269cf9804"
      },
      "execution_count": null,
      "outputs": [
        {
          "output_type": "stream",
          "name": "stdout",
          "text": [
            "root\n",
            " |-- Summons Number: long (nullable = true)\n",
            " |-- Plate ID: string (nullable = true)\n",
            " |-- Registration State: string (nullable = true)\n",
            " |-- Plate Type: string (nullable = true)\n",
            " |-- Issue Date: string (nullable = true)\n",
            " |-- Violation Code: integer (nullable = true)\n",
            " |-- Vehicle Body Type: string (nullable = true)\n",
            " |-- Vehicle Make: string (nullable = true)\n",
            " |-- Issuing Agency: string (nullable = true)\n",
            " |-- Street Code1: integer (nullable = true)\n",
            " |-- Street Code2: integer (nullable = true)\n",
            " |-- Street Code3: integer (nullable = true)\n",
            " |-- Vehicle Expiration Date: integer (nullable = true)\n",
            " |-- Violation Location: integer (nullable = true)\n",
            " |-- Violation Precinct: integer (nullable = true)\n",
            " |-- Issuer Precinct: integer (nullable = true)\n",
            " |-- Issuer Code: integer (nullable = true)\n",
            " |-- Issuer Command: string (nullable = true)\n",
            " |-- Issuer Squad: string (nullable = true)\n",
            " |-- Violation Time: string (nullable = true)\n",
            " |-- Time First Observed: string (nullable = true)\n",
            " |-- Violation County: string (nullable = true)\n",
            " |-- Violation In Front Of Or Opposite: string (nullable = true)\n",
            " |-- House Number: string (nullable = true)\n",
            " |-- Street Name: string (nullable = true)\n",
            " |-- Intersecting Street: string (nullable = true)\n",
            " |-- Date First Observed: integer (nullable = true)\n",
            " |-- Law Section: integer (nullable = true)\n",
            " |-- Sub Division: string (nullable = true)\n",
            " |-- Violation Legal Code: string (nullable = true)\n",
            " |-- Days Parking In Effect    : string (nullable = true)\n",
            " |-- From Hours In Effect: string (nullable = true)\n",
            " |-- To Hours In Effect: string (nullable = true)\n",
            " |-- Vehicle Color: string (nullable = true)\n",
            " |-- Unregistered Vehicle?: integer (nullable = true)\n",
            " |-- Vehicle Year: integer (nullable = true)\n",
            " |-- Meter Number: string (nullable = true)\n",
            " |-- Feet From Curb: integer (nullable = true)\n",
            " |-- Violation Post Code: string (nullable = true)\n",
            " |-- Violation Description: string (nullable = true)\n",
            " |-- No Standing or Stopping Violation: string (nullable = true)\n",
            " |-- Hydrant Violation: string (nullable = true)\n",
            " |-- Double Parking Violation: string (nullable = true)\n",
            " |-- Latitude: string (nullable = true)\n",
            " |-- Longitude: string (nullable = true)\n",
            " |-- Community Board: string (nullable = true)\n",
            " |-- Community Council : string (nullable = true)\n",
            " |-- Census Tract: string (nullable = true)\n",
            " |-- BIN: string (nullable = true)\n",
            " |-- BBL: string (nullable = true)\n",
            " |-- NTA: string (nullable = true)\n",
            "\n"
          ]
        }
      ]
    },
    {
      "cell_type": "markdown",
      "source": [
        "## Analyze and preprocess the data"
      ],
      "metadata": {
        "id": "0aTvqTXU221T"
      }
    },
    {
      "cell_type": "code",
      "execution_count": null,
      "metadata": {
        "id": "6c53ce60-ea7d-44a2-93b2-800f8d65270e",
        "colab": {
          "base_uri": "https://localhost:8080/"
        },
        "outputId": "b08c9178-4c9b-4840-f473-0b25b1afa701"
      },
      "outputs": [
        {
          "output_type": "execute_result",
          "data": {
            "text/plain": [
              "(100000, 37)"
            ]
          },
          "metadata": {},
          "execution_count": 12
        }
      ],
      "source": [
        "# Remove all columns which have more than 70% null values\n",
        "\n",
        "null_threshold = 0.70\n",
        "columns_valid = [x for x in df.columns if df.filter(F.col(x).isNull()).count()/df.count() < null_threshold]\n",
        "df = df.select(*columns_valid)\n",
        "df.count(), len(df.columns)"
      ]
    },
    {
      "cell_type": "code",
      "source": [
        "df.printSchema()"
      ],
      "metadata": {
        "colab": {
          "base_uri": "https://localhost:8080/"
        },
        "id": "BpU7hcjxj261",
        "outputId": "05132f9f-408d-45f9-9c63-a61d1ea0cc2b"
      },
      "execution_count": null,
      "outputs": [
        {
          "output_type": "stream",
          "name": "stdout",
          "text": [
            "root\n",
            " |-- Summons Number: long (nullable = true)\n",
            " |-- Plate ID: string (nullable = true)\n",
            " |-- Registration State: string (nullable = true)\n",
            " |-- Plate Type: string (nullable = true)\n",
            " |-- Issue Date: string (nullable = true)\n",
            " |-- Violation Code: integer (nullable = true)\n",
            " |-- Vehicle Body Type: string (nullable = true)\n",
            " |-- Vehicle Make: string (nullable = true)\n",
            " |-- Issuing Agency: string (nullable = true)\n",
            " |-- Street Code1: integer (nullable = true)\n",
            " |-- Street Code2: integer (nullable = true)\n",
            " |-- Street Code3: integer (nullable = true)\n",
            " |-- Vehicle Expiration Date: integer (nullable = true)\n",
            " |-- Violation Location: integer (nullable = true)\n",
            " |-- Violation Precinct: integer (nullable = true)\n",
            " |-- Issuer Precinct: integer (nullable = true)\n",
            " |-- Issuer Code: integer (nullable = true)\n",
            " |-- Issuer Command: string (nullable = true)\n",
            " |-- Issuer Squad: string (nullable = true)\n",
            " |-- Violation Time: string (nullable = true)\n",
            " |-- Violation County: string (nullable = true)\n",
            " |-- Violation In Front Of Or Opposite: string (nullable = true)\n",
            " |-- House Number: string (nullable = true)\n",
            " |-- Street Name: string (nullable = true)\n",
            " |-- Intersecting Street: string (nullable = true)\n",
            " |-- Date First Observed: integer (nullable = true)\n",
            " |-- Law Section: integer (nullable = true)\n",
            " |-- Sub Division: string (nullable = true)\n",
            " |-- Days Parking In Effect    : string (nullable = true)\n",
            " |-- From Hours In Effect: string (nullable = true)\n",
            " |-- To Hours In Effect: string (nullable = true)\n",
            " |-- Vehicle Color: string (nullable = true)\n",
            " |-- Unregistered Vehicle?: integer (nullable = true)\n",
            " |-- Vehicle Year: integer (nullable = true)\n",
            " |-- Meter Number: string (nullable = true)\n",
            " |-- Feet From Curb: integer (nullable = true)\n",
            " |-- Violation Description: string (nullable = true)\n",
            "\n"
          ]
        }
      ]
    },
    {
      "cell_type": "code",
      "source": [
        "columns_selected = [\"Registration State\",\"Plate Type\",\\\n",
        "                \"Violation Code\", \"Vehicle Body Type\",\"Vehicle Make\",\"Issuing Agency\", \"Street Code1\", \\\n",
        "               \"Street Code2\",\"Street Code3\",\"Violation Location\",\"Violation Precinct\", \\\n",
        "               \"Issuer Precinct\",\"Issuer Code\",\"Issuer Command\",\\\n",
        "               \"Violation County\",\"Law Section\",\"Sub Division\",\"Vehicle Color\"]"
      ],
      "metadata": {
        "id": "6GYAX3M8iIPz"
      },
      "execution_count": null,
      "outputs": []
    },
    {
      "cell_type": "code",
      "execution_count": null,
      "metadata": {
        "id": "e2230373-2239-436e-b40f-a82d3766a795"
      },
      "outputs": [],
      "source": [
        "# removed the Violation_Legal_Code, summons_number , plate_id as it has same values\n",
        "df = df.select(columns_selected)"
      ]
    },
    {
      "cell_type": "code",
      "source": [
        "# clean up the data as many have incorrect values.\n",
        "df = df[(df['Registration State'] != \"99\") & (df['Plate Type'] != \"999\") \\\n",
        "        & (df['Violation Code'] != 0)]"
      ],
      "metadata": {
        "id": "vWP9ZlnZVXqY"
      },
      "execution_count": null,
      "outputs": []
    },
    {
      "cell_type": "code",
      "source": [
        "# Check if the null value still exist\n",
        "df.select([count(when(isnull(c), c)).alias(c) for c in df.columns]).show()"
      ],
      "metadata": {
        "colab": {
          "base_uri": "https://localhost:8080/"
        },
        "id": "pnY2lrcN_gIK",
        "outputId": "a34689ff-d1af-44b5-c8ab-b352502fc896"
      },
      "execution_count": null,
      "outputs": [
        {
          "output_type": "stream",
          "name": "stdout",
          "text": [
            "+------------------+----------+--------------+-----------------+------------+--------------+------------+------------+------------+------------------+------------------+---------------+-----------+--------------+----------------+-----------+------------+-------------+\n",
            "|Registration State|Plate Type|Violation Code|Vehicle Body Type|Vehicle Make|Issuing Agency|Street Code1|Street Code2|Street Code3|Violation Location|Violation Precinct|Issuer Precinct|Issuer Code|Issuer Command|Violation County|Law Section|Sub Division|Vehicle Color|\n",
            "+------------------+----------+--------------+-----------------+------------+--------------+------------+------------+------------+------------------+------------------+---------------+-----------+--------------+----------------+-----------+------------+-------------+\n",
            "|                 0|         0|             0|             4928|        3237|             0|           0|           0|           0|             26180|                 0|              0|          0|         25296|           28006|          0|          18|         3398|\n",
            "+------------------+----------+--------------+-----------------+------------+--------------+------------+------------+------------+------------------+------------------+---------------+-----------+--------------+----------------+-----------+------------+-------------+\n",
            "\n"
          ]
        }
      ]
    },
    {
      "cell_type": "code",
      "execution_count": null,
      "metadata": {
        "id": "78d941ef-28be-4a97-906d-9f73677661e9",
        "colab": {
          "base_uri": "https://localhost:8080/"
        },
        "outputId": "c7960bda-28cd-4c2f-b3f6-e7f4296ba2c7"
      },
      "outputs": [
        {
          "output_type": "execute_result",
          "data": {
            "text/plain": [
              "Registration State       60\n",
              "Plate Type               46\n",
              "Violation Code           90\n",
              "Vehicle Body Type       336\n",
              "Vehicle Make            731\n",
              "Issuing Agency           12\n",
              "Street Code1           3422\n",
              "Street Code2           3719\n",
              "Street Code3           3648\n",
              "Violation Location      135\n",
              "Violation Precinct      136\n",
              "Issuer Precinct         277\n",
              "Issuer Code           10952\n",
              "Issuer Command          602\n",
              "Violation County          7\n",
              "Law Section               2\n",
              "Sub Division            122\n",
              "Vehicle Color           489\n",
              "dtype: int64"
            ]
          },
          "metadata": {},
          "execution_count": 18
        }
      ],
      "source": [
        "df.toPandas().nunique()"
      ]
    },
    {
      "cell_type": "code",
      "source": [
        "df = df.na.drop()"
      ],
      "metadata": {
        "id": "8aEQZ_MZ_pyG"
      },
      "execution_count": null,
      "outputs": []
    },
    {
      "cell_type": "code",
      "source": [
        "df.dropDuplicates()"
      ],
      "metadata": {
        "colab": {
          "base_uri": "https://localhost:8080/"
        },
        "id": "R8hmNDUS_qeF",
        "outputId": "bcfc03fe-8cf4-499e-fd63-87619217fa87"
      },
      "execution_count": null,
      "outputs": [
        {
          "output_type": "execute_result",
          "data": {
            "text/plain": [
              "DataFrame[Registration State: string, Plate Type: string, Violation Code: int, Vehicle Body Type: string, Vehicle Make: string, Issuing Agency: string, Street Code1: int, Street Code2: int, Street Code3: int, Violation Location: int, Violation Precinct: int, Issuer Precinct: int, Issuer Code: int, Issuer Command: string, Violation County: string, Law Section: int, Sub Division: string, Vehicle Color: string]"
            ]
          },
          "metadata": {},
          "execution_count": 20
        }
      ]
    },
    {
      "cell_type": "code",
      "source": [
        "sns.heatmap(df.toPandas().corr())"
      ],
      "metadata": {
        "id": "hbIOH6LWNJGx",
        "colab": {
          "base_uri": "https://localhost:8080/",
          "height": 110
        },
        "outputId": "201c0f17-35fb-4e21-df72-3fbe0638f11f"
      },
      "execution_count": null,
      "outputs": [
        {
          "output_type": "execute_result",
          "data": {
            "text/plain": [
              "<matplotlib.axes._subplots.AxesSubplot at 0x7f4e466aa550>"
            ]
          },
          "metadata": {},
          "execution_count": 21
        },
        {
          "output_type": "display_data",
          "data": {
            "text/plain": [
              "<Figure size 432x288 with 2 Axes>"
            ],
            "image/png": "[encoded data removed]"
          },
          "metadata": {
            "needs_background": "light"
          }
        }
      ]
    },
    {
      "cell_type": "code",
      "source": [
        "# check how labels are ditributed\n",
        "df.toPandas()['Violation Location'].value_counts()"
      ],
      "metadata": {
        "colab": {
          "base_uri": "https://localhost:8080/"
        },
        "id": "xmeb52o0LvP1",
        "outputId": "cd8d3a59-8a49-483d-9fe7-38ecc5192788"
      },
      "execution_count": null,
      "outputs": [
        {
          "output_type": "execute_result",
          "data": {
            "text/plain": [
              "19     4227\n",
              "1      2070\n",
              "14     1884\n",
              "18     1883\n",
              "109    1700\n",
              "       ... \n",
              "678       1\n",
              "92        1\n",
              "152       1\n",
              "138       1\n",
              "162       1\n",
              "Name: Violation Location, Length: 127, dtype: int64"
            ]
          },
          "metadata": {},
          "execution_count": 22
        }
      ]
    },
    {
      "cell_type": "code",
      "source": [
        "df.createOrReplaceTempView(\"nyc\")"
      ],
      "metadata": {
        "id": "D1h-QYo0O3yx"
      },
      "execution_count": null,
      "outputs": []
    },
    {
      "cell_type": "code",
      "source": [
        "violation_table = df.groupBy('Violation Location').count()\n",
        "fig = plt.figure(figsize =(25, 20))\n",
        "sns.barplot(x='Violation Location',y='count',data=violation_table.toPandas())\n",
        "plt.show()"
      ],
      "metadata": {
        "id": "LslLYYE5QGhH",
        "colab": {
          "base_uri": "https://localhost:8080/",
          "height": 1000
        },
        "outputId": "4a540865-0bc7-40a8-e160-6bc025faa0db"
      },
      "execution_count": null,
      "outputs": [
        {
          "output_type": "display_data",
          "data": {
            "text/plain": [
              "<Figure size 1800x1440 with 1 Axes>"
            ],
            "image/png": "[encoded data removed]"
          },
          "metadata": {
            "needs_background": "light"
          }
        }
      ]
    },
    {
      "cell_type": "code",
      "source": [
        "# from pyspark.sql.functions import *\n",
        "# df=df.withColumn(\"IssueDate\", to_timestamp(col(\"Issue_Date\")))\n",
        "# type(df)"
      ],
      "metadata": {
        "id": "6TLOgmGIDOiG"
      },
      "execution_count": null,
      "outputs": []
    },
    {
      "cell_type": "code",
      "source": [
        "from pyspark.sql.types import StringType,DoubleType\n",
        "\n",
        "cols = [F.col(field[0]).cast('double') if (field[1] == 'int') else F.col(field[0]) for field in df.dtypes]\n",
        "df = df.select(cols)\n",
        "df.printSchema()"
      ],
      "metadata": {
        "colab": {
          "base_uri": "https://localhost:8080/"
        },
        "id": "YBCGMEJ31HAu",
        "outputId": "08368981-8214-488b-8c7d-ae24fa5c94c5"
      },
      "execution_count": null,
      "outputs": [
        {
          "output_type": "stream",
          "name": "stdout",
          "text": [
            "root\n",
            " |-- Registration State: string (nullable = true)\n",
            " |-- Plate Type: string (nullable = true)\n",
            " |-- Violation Code: double (nullable = true)\n",
            " |-- Vehicle Body Type: string (nullable = true)\n",
            " |-- Vehicle Make: string (nullable = true)\n",
            " |-- Issuing Agency: string (nullable = true)\n",
            " |-- Street Code1: double (nullable = true)\n",
            " |-- Street Code2: double (nullable = true)\n",
            " |-- Street Code3: double (nullable = true)\n",
            " |-- Violation Location: double (nullable = true)\n",
            " |-- Violation Precinct: double (nullable = true)\n",
            " |-- Issuer Precinct: double (nullable = true)\n",
            " |-- Issuer Code: double (nullable = true)\n",
            " |-- Issuer Command: string (nullable = true)\n",
            " |-- Violation County: string (nullable = true)\n",
            " |-- Law Section: double (nullable = true)\n",
            " |-- Sub Division: string (nullable = true)\n",
            " |-- Vehicle Color: string (nullable = true)\n",
            "\n"
          ]
        }
      ]
    },
    {
      "cell_type": "code",
      "source": [
        "label_count=len(df.select('Violation Location').distinct().collect())\n",
        "print(label_count)"
      ],
      "metadata": {
        "colab": {
          "base_uri": "https://localhost:8080/"
        },
        "id": "kA-x9smuI1vf",
        "outputId": "89cdd82c-fc5d-4049-c76d-ebbb86c8f5ac"
      },
      "execution_count": null,
      "outputs": [
        {
          "output_type": "stream",
          "name": "stdout",
          "text": [
            "127\n"
          ]
        }
      ]
    },
    {
      "cell_type": "markdown",
      "source": [
        "## Convert categorical data to numerical then to vector assemle the data for ML lib"
      ],
      "metadata": {
        "id": "dFI12SmG3NY0"
      }
    },
    {
      "cell_type": "code",
      "source": [
        "# Split the data into categorical and continuos to use it pipeline\n",
        "cat_columns = [x for (x, dataType) in df.dtypes if dataType == 'string']\n",
        "num_columns = [x for (x, dataType) in df.dtypes if ((dataType != 'string') & (x != 'Violation_Location'))]"
      ],
      "metadata": {
        "id": "N7oGfoL4W5ZW"
      },
      "execution_count": null,
      "outputs": []
    },
    {
      "cell_type": "code",
      "source": [
        "# convert categorical to string indexer then to one hot encoder using pipeline\n",
        "from pyspark.ml.feature import StringIndexer\n",
        "from pyspark.ml.feature import OneHotEncoder\n",
        "from pyspark.ml.feature import VectorAssembler\n",
        "from pyspark.ml.feature import MinMaxScaler\n",
        "from pyspark.ml import Pipeline\n",
        "from pyspark.ml import PipelineModel\n",
        "\n",
        "#1. Convert to string indexer\n",
        "indexers = [ StringIndexer(inputCol=c,  handleInvalid=\"skip\",outputCol=\"{0}_indexed\".format(c)) for c in cat_columns ]\n",
        "\n",
        "\n",
        "#2. Convert to OnehotEncoder\n",
        "encoders = [ OneHotEncoder(\n",
        "                inputCol=indexer.getOutputCol(),\n",
        "                outputCol=\"{0}_encoded\".format(indexer.getOutputCol()))\n",
        "             for indexer in indexers ]\n",
        "\n",
        "\n",
        "#3. Assembler\n",
        "assembler = VectorAssembler(inputCols=[encoder.getOutputCol() for encoder in encoders]\n",
        "                                + num_columns, outputCol=\"features_vect\")\n",
        "## MinMax Scalar\n",
        "scaler = MinMaxScaler(inputCol=\"features_vect\", outputCol=\"features_scaled\")\n",
        "\n",
        "pipeline = Pipeline(stages=indexers + encoders+ [assembler]+[scaler])\n",
        "\n",
        "pipeline_model = pipeline.fit(df)\n",
        "# save the model for fitting the data for prediction\n",
        "pipeline_model.save(\"va_model\")\n",
        "\n",
        "df = pipeline_model.transform(df)"
      ],
      "metadata": {
        "id": "HyMtqesoXHPe"
      },
      "execution_count": null,
      "outputs": []
    },
    {
      "cell_type": "markdown",
      "source": [
        "\n",
        "***Note that above data transformation pipeline is saved as model to transform the new data for prediction***"
      ],
      "metadata": {
        "id": "Cah2sXqd3k3Z"
      }
    },
    {
      "cell_type": "code",
      "source": [
        "# There are more labels than standard multi label classifier support to predict. So lets index the label.\n",
        "label_indexer = StringIndexer(inputCol=\"Violation Location\", outputCol=\"VL_indexed\")\n",
        "label_indexers_model = label_indexer.fit(df)\n",
        "df= label_indexers_model.transform(df)"
      ],
      "metadata": {
        "id": "mHq6gFb7xGuH"
      },
      "execution_count": null,
      "outputs": []
    },
    {
      "cell_type": "code",
      "source": [
        "# Display the features column to check whether its dense or sparse vector\n",
        "df.select(\"features_scaled\",\"VL_indexed\").show(3)"
      ],
      "metadata": {
        "id": "JuXAMCwGXLUL",
        "colab": {
          "base_uri": "https://localhost:8080/"
        },
        "outputId": "aea0d478-a83d-46fa-bc7e-7d263412c7a2"
      },
      "execution_count": null,
      "outputs": [
        {
          "output_type": "stream",
          "name": "stdout",
          "text": [
            "+--------------------+----------+\n",
            "|     features_scaled|VL_indexed|\n",
            "+--------------------+----------+\n",
            "|(1926,[0,60,99,30...|      23.0|\n",
            "|(1926,[0,60,99,30...|      23.0|\n",
            "|(1926,[0,60,104,3...|      23.0|\n",
            "+--------------------+----------+\n",
            "only showing top 3 rows\n",
            "\n"
          ]
        }
      ]
    },
    {
      "cell_type": "code",
      "source": [
        "# from pyspark.ml.linalg import Vectors, VectorUDT\n",
        "\n",
        "# # define function to convert parse to dense vector\n",
        "# sparseToDense = F.udf(lambda v : Vectors.dense(v), VectorUDT())\n",
        "\n",
        "# densefeatureDF = df.withColumn('dense_features', sparseToDense('features_scaled'))\n",
        "\n",
        "# densefeatureDF.select(\"features_scaled\", \"dense_features\").show(1)"
      ],
      "metadata": {
        "id": "b-CDW3XoXPAq"
      },
      "execution_count": null,
      "outputs": []
    },
    {
      "cell_type": "code",
      "source": [
        "data = df.select(F.col(\"features_scaled\").alias(\"features\"),\n",
        "                          F.col(\"VL_indexed\").alias(\"label\"))"
      ],
      "metadata": {
        "id": "WDblKw3iXVI-"
      },
      "execution_count": null,
      "outputs": []
    },
    {
      "cell_type": "code",
      "source": [
        "# cache and persist\n",
        "from pyspark import StorageLevel\n",
        "\n",
        "# persist the dataframe in both memo\n",
        "persist_data = data.persist(StorageLevel.MEMORY_AND_DISK)"
      ],
      "metadata": {
        "id": "vgofctJZXZqM"
      },
      "execution_count": null,
      "outputs": []
    },
    {
      "cell_type": "code",
      "source": [
        "trainDF, testDF =  persist_data.randomSplit([0.7,0.3], seed = 2642)"
      ],
      "metadata": {
        "id": "1G8QVwkPXcv1"
      },
      "execution_count": null,
      "outputs": []
    },
    {
      "cell_type": "code",
      "source": [
        "from pyspark.ml.classification import RandomForestClassifier\n",
        "from pyspark.ml.evaluation import MulticlassClassificationEvaluator\n",
        "from pyspark.ml.tuning import ParamGridBuilder, TrainValidationSplit\n",
        "\n",
        "# rf_model = RandomForestClassifier(featuresCol='features', labelCol='label', \n",
        "#                     predictionCol='prediction',maxDepth=30, \n",
        "#                     impurity='gini', subsamplingRate= .5).fit(trainDF)\n",
        "# pred = rf_model.transform(testDF)\n",
        "# pred.show(3)\n",
        "\n",
        "rf = RandomForestClassifier(featuresCol='features', labelCol='label', \n",
        "                    predictionCol='prediction', impurity='gini')\n",
        "\n",
        "paramGrid = ParamGridBuilder()\\\n",
        "    .addGrid(rf.maxDepth, [30]) \\\n",
        "    .addGrid(rf.subsamplingRate, [0.1, 0.5])\\\n",
        "    .addGrid(rf.numTrees, [20,40])\\\n",
        "    .build()\n",
        "\n",
        "evaluator=MulticlassClassificationEvaluator(predictionCol=\"prediction\")\n",
        "\n",
        "rf_tvs = TrainValidationSplit(estimator=rf,\n",
        "                           estimatorParamMaps=paramGrid,\n",
        "                           evaluator=evaluator,\n",
        "                           # 80% of the data will be used for training, 20% for validation.\n",
        "                           trainRatio=0.8)\n",
        "rf_tvs_model = rf_tvs.fit(trainDF)\n",
        "rf_predictonDF = rf_tvs_model.transform(testDF)\n",
        "acc = evaluator.evaluate(rf_predictonDF)\n",
        "print(\"Prediction Accuracy: \", acc)\n",
        "rf_predictonDF.select(\"features\",\"label\", \"prediction\").show(5)\n"
      ],
      "metadata": {
        "id": "Jm_XamB5Jvjb",
        "colab": {
          "base_uri": "https://localhost:8080/"
        },
        "outputId": "40125d6d-1be0-4fe1-85fc-e0a2daedca45"
      },
      "execution_count": null,
      "outputs": [
        {
          "output_type": "stream",
          "name": "stdout",
          "text": [
            "Prediction Accuracy:  0.8608196539256541\n",
            "+--------------------+-----+----------+\n",
            "|            features|label|prediction|\n",
            "+--------------------+-----+----------+\n",
            "|(1926,[0,59,98,30...|  0.0|       0.0|\n",
            "|(1926,[0,59,98,30...| 24.0|      24.0|\n",
            "|(1926,[0,59,98,30...| 34.0|      40.0|\n",
            "|(1926,[0,59,98,30...| 23.0|      24.0|\n",
            "|(1926,[0,59,98,30...| 24.0|      23.0|\n",
            "+--------------------+-----+----------+\n",
            "only showing top 5 rows\n",
            "\n"
          ]
        }
      ]
    },
    {
      "cell_type": "code",
      "source": [
        "from pyspark.ml.feature import IndexToString\n",
        "from pyspark.sql.types import DoubleType\n",
        "from pyspark.ml import PipelineModel\n",
        "import os\n",
        "\n",
        "dirname = os.getcwd()\n",
        "print('path=',dirname)\n",
        "# get the best model and save it\n",
        "lr_model = rf_tvs_model.bestModel\n",
        "filename = \"rf_model\"\n",
        "model_path= os.path.join(dirname, filename)\n",
        "print(model_path)\n",
        "# Index to String converter to get the location\n",
        "label_conv = IndexToString(inputCol=\"prediction\", outputCol=\"Violation_Location\", labels=label_indexers_model.labels)\n",
        "# save the Randomforest regression model as pipeline model\n",
        "pm = PipelineModel(stages=[lr_model,label_conv])\n",
        "# Write the model\n",
        "pm.save(filename)"
      ],
      "metadata": {
        "id": "PSpELmcGQRpk",
        "colab": {
          "base_uri": "https://localhost:8080/"
        },
        "outputId": "954a5b38-6653-4a94-db72-3621e22c8c15"
      },
      "execution_count": null,
      "outputs": [
        {
          "output_type": "stream",
          "name": "stdout",
          "text": [
            "path= /content\n",
            "/content/rf_model\n"
          ]
        }
      ]
    },
    {
      "cell_type": "markdown",
      "source": [
        "***Best model from TrainValidationSplit is stored along with converion for prediction to violation location using index to string. *** "
      ],
      "metadata": {
        "id": "ngHU8WXC4U4H"
      }
    },
    {
      "cell_type": "code",
      "source": [
        "from google.colab import files\n",
        "!zip -r 'rf_model.zip' 'rf_model'\n",
        "!zip -r 'va_model.zip' 'va_model'\n",
        "\n",
        "files.download('/content/rf_model.zip')\n",
        "files.download('/content/va_model.zip')"
      ],
      "metadata": {
        "id": "PLEsX0s9Qn53"
      },
      "execution_count": null,
      "outputs": []
    },
    {
      "cell_type": "code",
      "source": [
        "from sklearn.metrics import confusion_matrix\n",
        "from pyspark.ml.feature import IndexToString\n",
        "from pyspark.sql.types import DoubleType\n",
        "\n",
        "label_conv = IndexToString(inputCol=\"prediction\", outputCol=\"Violation_Location\", labels=label_indexers_model.labels)\n",
        "pred_label = label_conv.transform(rf_predictonDF)\n",
        "\n",
        "\n",
        "\n",
        "# convert Violation_Location to DoubleType for accuracy calulation.\n",
        "pred_label = pred_label.withColumn(\"Violation_Location\", col(\"Violation_Location\").cast(DoubleType()))\n",
        "evaluator=MulticlassClassificationEvaluator(predictionCol=\"prediction\")\n",
        "acc = evaluator.evaluate(pred_label)\n",
        "print(\"Prediction Accuracy: \", acc)"
      ],
      "metadata": {
        "id": "d4z4alHUxuq2"
      },
      "execution_count": null,
      "outputs": []
    },
    {
      "cell_type": "code",
      "source": [
        "# import PipelineModel from pyspark.ml package\n",
        "from pyspark.ml import PipelineModel\n",
        "import os\n",
        "import zipfile\n",
        "dirname = os.getcwd()\n",
        "print('path=',dirname)\n",
        "\n",
        "rf_filename = \"rf_model\"\n",
        "model_path= os.path.join(dirname, rf_filename)\n",
        "\n",
        "print(model_path)\n",
        "# load the model from the location it is stored\n",
        "# The loaded model acts as PipelineModel\n",
        "pipeline = PipelineModel.load(model_path)\n",
        "\n",
        "# use the PipelineModel object to perform prediciton on test data. \n",
        "# Use .transform() to perfrom prediction\n",
        "prediction = pipeline.transform(testDF)\n",
        "\n",
        "# print the results\n",
        "# prediction.select('label','prediction','Violation_Location').show(5)\n",
        "prediction.select('prediction','Violation_Location').show(5)"
      ],
      "metadata": {
        "id": "iVHYPMS-LLh9"
      },
      "execution_count": null,
      "outputs": []
    },
    {
      "cell_type": "code",
      "source": [
        "\n",
        "spark.stop() "
      ],
      "metadata": {
        "id": "PnDVzpkwxwuz"
      },
      "execution_count": null,
      "outputs": []
    },
    {
      "cell_type": "markdown",
      "source": [
        "Fit the model and check the accuracy"
      ],
      "metadata": {
        "id": "4gpv3qC4XsUh"
      }
    }
  ]
}